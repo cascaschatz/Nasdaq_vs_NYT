{
 "cells": [
  {
   "cell_type": "code",
   "execution_count": 1,
   "id": "5d35f63f",
   "metadata": {},
   "outputs": [],
   "source": [
    "import requests, time"
   ]
  },
  {
   "cell_type": "code",
   "execution_count": 2,
   "id": "6f90790a",
   "metadata": {},
   "outputs": [],
   "source": [
    "your_key = open('your_key.txt', 'r').read()"
   ]
  },
  {
   "cell_type": "code",
   "execution_count": null,
   "id": "d461982c",
   "metadata": {},
   "outputs": [],
   "source": [
    "def articles_df(init, finit):\n",
    "    ''' retorna um dataframe com informações a respeito de artigos \n",
    "        publicados na NYT durante todo o período compreendido entre\n",
    "        os anos init e finit\n",
    "        \n",
    "        ex. init 2020 e finit 2022, retorna dataframe de 2020, 2021 e 2022'''\n",
    "\n",
    "    years= [j for j in range(init,finit+1)]\n",
    "    df_articles=[] #lista dos dataframes, cada elemento traz informações sobre um mês-ano\n",
    "\n",
    "    for year in range(len(years)):\n",
    "        for month in range(1,13):\n",
    "            query_url_archive = f\"https://api.nytimes.com/svc/archive/v1/{years[year]}/{month}.json?api-key={your_key}\"\n",
    "            archive_request = requests.get(query_url_archive)     \n",
    "            #d1=archive_request.json()\n",
    "            #d2=pd.json_normalize(d1['response']['docs'])\n",
    "            df_articles.append(archive_request)\n",
    "            time.sleep(6)\n",
    "    return df_articles\n",
    "\n"
   ]
  },
  {
   "cell_type": "code",
   "execution_count": null,
   "id": "d793ac96",
   "metadata": {},
   "outputs": [],
   "source": [
    "def articles_df2(archives):\n",
    "    ''' retorna um dataframe com informações a respeito de artigos \n",
    "        publicados na NYT durante todo o período compreendido entre\n",
    "        os anos init e finit\n",
    "        \n",
    "        ex. init 2020 e finit 2022, retorna dataframe de 2020, 2021 e 2022'''\n",
    "\n",
    "    df_articles2=[] #lista dos dataframes, cada elemento traz informações sobre um mês-ano\n",
    "\n",
    "    for i in range(35):\n",
    "        #query_url_archive = f\"https://api.nytimes.com/svc/archive/v1/{years[year]}/{month}.json?api-key={your_key}\"\n",
    "        #archive_request = requests.get(query_url_archive)     \n",
    "        d1=archives[i].json()\n",
    "        d2=pd.json_normalize(d1['response']['docs'])\n",
    "        df_articles2.append(d2)\n",
    "        print(f'{i}ok')\n",
    "        \n",
    "    return df_articles2"
   ]
  },
  {
   "cell_type": "code",
   "execution_count": null,
   "id": "5343d9c1",
   "metadata": {},
   "outputs": [],
   "source": [
    "df_articles=articles_df(2020,2022)"
   ]
  },
  {
   "cell_type": "code",
   "execution_count": null,
   "id": "e5e4c956",
   "metadata": {},
   "outputs": [],
   "source": [
    "df_articles2=articles_df2(df_articles)\n",
    "#len(df_articles2)"
   ]
  }
 ],
 "metadata": {
  "kernelspec": {
   "display_name": "Python 3 (ipykernel)",
   "language": "python",
   "name": "python3"
  },
  "language_info": {
   "codemirror_mode": {
    "name": "ipython",
    "version": 3
   },
   "file_extension": ".py",
   "mimetype": "text/x-python",
   "name": "python",
   "nbconvert_exporter": "python",
   "pygments_lexer": "ipython3",
   "version": "3.9.12"
  },
  "toc": {
   "base_numbering": 1,
   "nav_menu": {},
   "number_sections": true,
   "sideBar": true,
   "skip_h1_title": false,
   "title_cell": "Table of Contents",
   "title_sidebar": "Contents",
   "toc_cell": false,
   "toc_position": {},
   "toc_section_display": true,
   "toc_window_display": false
  },
  "varInspector": {
   "cols": {
    "lenName": 16,
    "lenType": 16,
    "lenVar": 40
   },
   "kernels_config": {
    "python": {
     "delete_cmd_postfix": "",
     "delete_cmd_prefix": "del ",
     "library": "var_list.py",
     "varRefreshCmd": "print(var_dic_list())"
    },
    "r": {
     "delete_cmd_postfix": ") ",
     "delete_cmd_prefix": "rm(",
     "library": "var_list.r",
     "varRefreshCmd": "cat(var_dic_list()) "
    }
   },
   "types_to_exclude": [
    "module",
    "function",
    "builtin_function_or_method",
    "instance",
    "_Feature"
   ],
   "window_display": false
  }
 },
 "nbformat": 4,
 "nbformat_minor": 5
}
